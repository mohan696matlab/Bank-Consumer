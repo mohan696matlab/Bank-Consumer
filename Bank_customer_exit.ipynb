{
 "cells": [
  {
   "cell_type": "code",
   "execution_count": 1,
   "metadata": {},
   "outputs": [
    {
     "name": "stderr",
     "output_type": "stream",
     "text": [
      "Using TensorFlow backend.\n"
     ]
    }
   ],
   "source": [
    "# Importing the libraries\n",
    "import numpy as np\n",
    "import matplotlib.pyplot as plt\n",
    "import pandas as pd\n",
    "\n",
    "# Importing the Keras libraries and packages\n",
    "import keras\n",
    "from keras.models import Sequential\n",
    "from keras.layers import Dense\n",
    "\n",
    "# To show all the columns\n",
    "pd.pandas.set_option('display.max_column',None)"
   ]
  },
  {
   "cell_type": "code",
   "execution_count": 6,
   "metadata": {},
   "outputs": [
    {
     "data": {
      "text/html": [
       "<div>\n",
       "<style scoped>\n",
       "    .dataframe tbody tr th:only-of-type {\n",
       "        vertical-align: middle;\n",
       "    }\n",
       "\n",
       "    .dataframe tbody tr th {\n",
       "        vertical-align: top;\n",
       "    }\n",
       "\n",
       "    .dataframe thead th {\n",
       "        text-align: right;\n",
       "    }\n",
       "</style>\n",
       "<table border=\"1\" class=\"dataframe\">\n",
       "  <thead>\n",
       "    <tr style=\"text-align: right;\">\n",
       "      <th></th>\n",
       "      <th>CreditScore</th>\n",
       "      <th>Geography</th>\n",
       "      <th>Gender</th>\n",
       "      <th>Age</th>\n",
       "      <th>Tenure</th>\n",
       "      <th>Balance</th>\n",
       "      <th>NumOfProducts</th>\n",
       "      <th>HasCrCard</th>\n",
       "      <th>IsActiveMember</th>\n",
       "      <th>EstimatedSalary</th>\n",
       "    </tr>\n",
       "  </thead>\n",
       "  <tbody>\n",
       "    <tr>\n",
       "      <th>0</th>\n",
       "      <td>619</td>\n",
       "      <td>France</td>\n",
       "      <td>Female</td>\n",
       "      <td>42</td>\n",
       "      <td>2</td>\n",
       "      <td>0.00</td>\n",
       "      <td>1</td>\n",
       "      <td>1</td>\n",
       "      <td>1</td>\n",
       "      <td>101348.88</td>\n",
       "    </tr>\n",
       "    <tr>\n",
       "      <th>1</th>\n",
       "      <td>608</td>\n",
       "      <td>Spain</td>\n",
       "      <td>Female</td>\n",
       "      <td>41</td>\n",
       "      <td>1</td>\n",
       "      <td>83807.86</td>\n",
       "      <td>1</td>\n",
       "      <td>0</td>\n",
       "      <td>1</td>\n",
       "      <td>112542.58</td>\n",
       "    </tr>\n",
       "    <tr>\n",
       "      <th>2</th>\n",
       "      <td>502</td>\n",
       "      <td>France</td>\n",
       "      <td>Female</td>\n",
       "      <td>42</td>\n",
       "      <td>8</td>\n",
       "      <td>159660.80</td>\n",
       "      <td>3</td>\n",
       "      <td>1</td>\n",
       "      <td>0</td>\n",
       "      <td>113931.57</td>\n",
       "    </tr>\n",
       "    <tr>\n",
       "      <th>3</th>\n",
       "      <td>699</td>\n",
       "      <td>France</td>\n",
       "      <td>Female</td>\n",
       "      <td>39</td>\n",
       "      <td>1</td>\n",
       "      <td>0.00</td>\n",
       "      <td>2</td>\n",
       "      <td>0</td>\n",
       "      <td>0</td>\n",
       "      <td>93826.63</td>\n",
       "    </tr>\n",
       "    <tr>\n",
       "      <th>4</th>\n",
       "      <td>850</td>\n",
       "      <td>Spain</td>\n",
       "      <td>Female</td>\n",
       "      <td>43</td>\n",
       "      <td>2</td>\n",
       "      <td>125510.82</td>\n",
       "      <td>1</td>\n",
       "      <td>1</td>\n",
       "      <td>1</td>\n",
       "      <td>79084.10</td>\n",
       "    </tr>\n",
       "  </tbody>\n",
       "</table>\n",
       "</div>"
      ],
      "text/plain": [
       "   CreditScore Geography  Gender  Age  Tenure    Balance  NumOfProducts  \\\n",
       "0          619    France  Female   42       2       0.00              1   \n",
       "1          608     Spain  Female   41       1   83807.86              1   \n",
       "2          502    France  Female   42       8  159660.80              3   \n",
       "3          699    France  Female   39       1       0.00              2   \n",
       "4          850     Spain  Female   43       2  125510.82              1   \n",
       "\n",
       "   HasCrCard  IsActiveMember  EstimatedSalary  \n",
       "0          1               1        101348.88  \n",
       "1          0               1        112542.58  \n",
       "2          1               0        113931.57  \n",
       "3          0               0         93826.63  \n",
       "4          1               1         79084.10  "
      ]
     },
     "execution_count": 6,
     "metadata": {},
     "output_type": "execute_result"
    }
   ],
   "source": [
    "# Importing the dataset\n",
    "dataset = pd.read_csv('BankCustomers.csv')\n",
    "X = dataset.iloc[:, 3:13]\n",
    "y = dataset.iloc[:, 13]\n",
    "\n",
    "X.head()"
   ]
  },
  {
   "cell_type": "code",
   "execution_count": 16,
   "metadata": {},
   "outputs": [
    {
     "data": {
      "application/vnd.jupyter.widget-view+json": {
       "model_id": "4c45bac9779446c2bb3a405939e6af29",
       "version_major": 2,
       "version_minor": 0
      },
      "text/plain": [
       "HBox(children=(FloatProgress(value=0.0, description='Summarize dataset', max=28.0, style=ProgressStyle(descrip…"
      ]
     },
     "metadata": {},
     "output_type": "display_data"
    },
    {
     "name": "stdout",
     "output_type": "stream",
     "text": [
      "\n"
     ]
    },
    {
     "data": {
      "application/vnd.jupyter.widget-view+json": {
       "model_id": "336a71079de6419ea7b40ee82b87fba5",
       "version_major": 2,
       "version_minor": 0
      },
      "text/plain": [
       "HBox(children=(FloatProgress(value=0.0, description='Generate report structure', max=1.0, style=ProgressStyle(…"
      ]
     },
     "metadata": {},
     "output_type": "display_data"
    },
    {
     "name": "stderr",
     "output_type": "stream",
     "text": [
      "C:\\Users\\mohan\\miniconda3\\envs\\tensorflow\\lib\\site-packages\\pandas_profiling\\visualisation\\plot.py:154: MatplotlibDeprecationWarning: You are modifying the state of a globally registered colormap. In future versions, you will not be able to modify a registered colormap in-place. To remove this warning, you can make a copy of the colormap first. cmap = copy.copy(mpl.cm.get_cmap(\"RdBu\"))\n",
      "  cmap.set_bad(cmap_bad)\n"
     ]
    },
    {
     "name": "stdout",
     "output_type": "stream",
     "text": [
      "\n"
     ]
    },
    {
     "data": {
      "application/vnd.jupyter.widget-view+json": {
       "model_id": "",
       "version_major": 2,
       "version_minor": 0
      },
      "text/plain": [
       "HBox(children=(FloatProgress(value=0.0, description='Render widgets', max=1.0, style=ProgressStyle(description…"
      ]
     },
     "metadata": {},
     "output_type": "display_data"
    },
    {
     "data": {
      "application/vnd.jupyter.widget-view+json": {
       "model_id": "6bb0af0249864c60a4217aeca41b1f29",
       "version_major": 2,
       "version_minor": 0
      },
      "text/plain": [
       "VBox(children=(Tab(children=(Tab(children=(GridBox(children=(VBox(children=(GridspecLayout(children=(HTML(valu…"
      ]
     },
     "metadata": {},
     "output_type": "display_data"
    }
   ],
   "source": [
    "from pandas_profiling import ProfileReport\n",
    "profile  = ProfileReport(dataset, title='EDA Bank',explorative=True)\n",
    "profile.to_widgets()"
   ]
  },
  {
   "cell_type": "code",
   "execution_count": 7,
   "metadata": {},
   "outputs": [],
   "source": [
    "# convert categorical feature into dummy variables\n",
    "\n",
    "states=pd.get_dummies(X['Geography'],drop_first=True)\n",
    "gender=pd.get_dummies(X['Gender'],drop_first=True)"
   ]
  },
  {
   "cell_type": "code",
   "execution_count": 8,
   "metadata": {},
   "outputs": [],
   "source": [
    "#concatenate the remaining dummies columns\n",
    "X=pd.concat([X,states,gender],axis=1)"
   ]
  },
  {
   "cell_type": "code",
   "execution_count": 9,
   "metadata": {},
   "outputs": [],
   "source": [
    "#drop the columns as it is no longer required\n",
    "\n",
    "X=X.drop(['Geography','Gender'],axis=1)"
   ]
  },
  {
   "cell_type": "code",
   "execution_count": 10,
   "metadata": {},
   "outputs": [],
   "source": [
    "# Splitting the dataset into the Training set and Test set\n",
    "from sklearn.model_selection import train_test_split\n",
    "X_train, X_test, y_train, y_test = train_test_split(X, y, test_size = 0.2, random_state = 0)\n"
   ]
  },
  {
   "cell_type": "code",
   "execution_count": 11,
   "metadata": {},
   "outputs": [],
   "source": [
    "# Feature Scaling\n",
    "from sklearn.preprocessing import StandardScaler\n",
    "sc = StandardScaler()\n",
    "X_train = sc.fit_transform(X_train)\n",
    "X_test = sc.transform(X_test)"
   ]
  },
  {
   "cell_type": "code",
   "execution_count": 12,
   "metadata": {},
   "outputs": [
    {
     "name": "stderr",
     "output_type": "stream",
     "text": [
      "C:\\Users\\mohan\\miniconda3\\envs\\tensorflow\\lib\\site-packages\\ipykernel_launcher.py:17: UserWarning: The `nb_epoch` argument in `fit` has been renamed `epochs`.\n"
     ]
    },
    {
     "name": "stdout",
     "output_type": "stream",
     "text": [
      "Epoch 1/100\n",
      "8000/8000 [==============================] - 1s 95us/step - loss: 0.4790 - accuracy: 0.7954\n",
      "Epoch 2/100\n",
      "8000/8000 [==============================] - 1s 76us/step - loss: 0.4298 - accuracy: 0.7960\n",
      "Epoch 3/100\n",
      "8000/8000 [==============================] - 1s 76us/step - loss: 0.4254 - accuracy: 0.7960\n",
      "Epoch 4/100\n",
      "8000/8000 [==============================] - 1s 75us/step - loss: 0.4189 - accuracy: 0.8183\n",
      "Epoch 5/100\n",
      "8000/8000 [==============================] - 1s 75us/step - loss: 0.4136 - accuracy: 0.8310\n",
      "Epoch 6/100\n",
      "8000/8000 [==============================] - 1s 76us/step - loss: 0.4097 - accuracy: 0.8325\n",
      "Epoch 7/100\n",
      "8000/8000 [==============================] - 1s 75us/step - loss: 0.4071 - accuracy: 0.8345\n",
      "Epoch 8/100\n",
      "8000/8000 [==============================] - 1s 79us/step - loss: 0.4049 - accuracy: 0.8351\n",
      "Epoch 9/100\n",
      "8000/8000 [==============================] - 1s 78us/step - loss: 0.4034 - accuracy: 0.8339\n",
      "Epoch 10/100\n",
      "8000/8000 [==============================] - 1s 77us/step - loss: 0.4019 - accuracy: 0.8335\n",
      "Epoch 11/100\n",
      "8000/8000 [==============================] - 1s 76us/step - loss: 0.4011 - accuracy: 0.8340\n",
      "Epoch 12/100\n",
      "8000/8000 [==============================] - 1s 82us/step - loss: 0.4001 - accuracy: 0.8336\n",
      "Epoch 13/100\n",
      "8000/8000 [==============================] - 1s 83us/step - loss: 0.3998 - accuracy: 0.8351\n",
      "Epoch 14/100\n",
      "8000/8000 [==============================] - 1s 82us/step - loss: 0.3988 - accuracy: 0.8336\n",
      "Epoch 15/100\n",
      "8000/8000 [==============================] - 1s 77us/step - loss: 0.3985 - accuracy: 0.8361\n",
      "Epoch 16/100\n",
      "8000/8000 [==============================] - 1s 77us/step - loss: 0.3982 - accuracy: 0.8356\n",
      "Epoch 17/100\n",
      "8000/8000 [==============================] - 1s 77us/step - loss: 0.3979 - accuracy: 0.8351\n",
      "Epoch 18/100\n",
      "8000/8000 [==============================] - 1s 81us/step - loss: 0.3980 - accuracy: 0.8344\n",
      "Epoch 19/100\n",
      "8000/8000 [==============================] - 1s 78us/step - loss: 0.3968 - accuracy: 0.8364\n",
      "Epoch 20/100\n",
      "8000/8000 [==============================] - 1s 79us/step - loss: 0.3976 - accuracy: 0.8347\n",
      "Epoch 21/100\n",
      "8000/8000 [==============================] - 1s 76us/step - loss: 0.3974 - accuracy: 0.8350\n",
      "Epoch 22/100\n",
      "8000/8000 [==============================] - 1s 76us/step - loss: 0.3964 - accuracy: 0.8366\n",
      "Epoch 23/100\n",
      "8000/8000 [==============================] - 1s 76us/step - loss: 0.3971 - accuracy: 0.8357\n",
      "Epoch 24/100\n",
      "8000/8000 [==============================] - 1s 76us/step - loss: 0.3964 - accuracy: 0.8340\n",
      "Epoch 25/100\n",
      "8000/8000 [==============================] - 1s 75us/step - loss: 0.3965 - accuracy: 0.8357\n",
      "Epoch 26/100\n",
      "8000/8000 [==============================] - 1s 76us/step - loss: 0.3966 - accuracy: 0.8355\n",
      "Epoch 27/100\n",
      "8000/8000 [==============================] - 1s 77us/step - loss: 0.3964 - accuracy: 0.8351\n",
      "Epoch 28/100\n",
      "8000/8000 [==============================] - 1s 76us/step - loss: 0.3968 - accuracy: 0.8339\n",
      "Epoch 29/100\n",
      "8000/8000 [==============================] - 1s 77us/step - loss: 0.3962 - accuracy: 0.8350\n",
      "Epoch 30/100\n",
      "8000/8000 [==============================] - 1s 77us/step - loss: 0.3964 - accuracy: 0.8356\n",
      "Epoch 31/100\n",
      "8000/8000 [==============================] - 1s 76us/step - loss: 0.3960 - accuracy: 0.8372\n",
      "Epoch 32/100\n",
      "8000/8000 [==============================] - 1s 76us/step - loss: 0.3962 - accuracy: 0.8366\n",
      "Epoch 33/100\n",
      "8000/8000 [==============================] - 1s 77us/step - loss: 0.3957 - accuracy: 0.8339\n",
      "Epoch 34/100\n",
      "8000/8000 [==============================] - 1s 77us/step - loss: 0.3951 - accuracy: 0.8365\n",
      "Epoch 35/100\n",
      "8000/8000 [==============================] - 1s 77us/step - loss: 0.3959 - accuracy: 0.8355\n",
      "Epoch 36/100\n",
      "8000/8000 [==============================] - 1s 76us/step - loss: 0.3952 - accuracy: 0.8365\n",
      "Epoch 37/100\n",
      "8000/8000 [==============================] - 1s 77us/step - loss: 0.3953 - accuracy: 0.8363\n",
      "Epoch 38/100\n",
      "8000/8000 [==============================] - 1s 81us/step - loss: 0.3952 - accuracy: 0.8355\n",
      "Epoch 39/100\n",
      "8000/8000 [==============================] - 1s 78us/step - loss: 0.3956 - accuracy: 0.8349\n",
      "Epoch 40/100\n",
      "8000/8000 [==============================] - 1s 78us/step - loss: 0.3952 - accuracy: 0.8361\n",
      "Epoch 41/100\n",
      "8000/8000 [==============================] - 1s 80us/step - loss: 0.3951 - accuracy: 0.8354\n",
      "Epoch 42/100\n",
      "8000/8000 [==============================] - 1s 76us/step - loss: 0.3947 - accuracy: 0.8356\n",
      "Epoch 43/100\n",
      "8000/8000 [==============================] - 1s 80us/step - loss: 0.3952 - accuracy: 0.8347\n",
      "Epoch 44/100\n",
      "8000/8000 [==============================] - 1s 77us/step - loss: 0.3950 - accuracy: 0.8351\n",
      "Epoch 45/100\n",
      "8000/8000 [==============================] - 1s 81us/step - loss: 0.3945 - accuracy: 0.8355\n",
      "Epoch 46/100\n",
      "8000/8000 [==============================] - 1s 78us/step - loss: 0.3947 - accuracy: 0.8369\n",
      "Epoch 47/100\n",
      "8000/8000 [==============================] - 1s 84us/step - loss: 0.3946 - accuracy: 0.8364\n",
      "Epoch 48/100\n",
      "8000/8000 [==============================] - 1s 77us/step - loss: 0.3945 - accuracy: 0.8341\n",
      "Epoch 49/100\n",
      "8000/8000 [==============================] - 1s 73us/step - loss: 0.3940 - accuracy: 0.8365\n",
      "Epoch 50/100\n",
      "8000/8000 [==============================] - 1s 79us/step - loss: 0.3943 - accuracy: 0.8359\n",
      "Epoch 51/100\n",
      "8000/8000 [==============================] - 1s 74us/step - loss: 0.3938 - accuracy: 0.8375\n",
      "Epoch 52/100\n",
      "8000/8000 [==============================] - 1s 74us/step - loss: 0.3938 - accuracy: 0.8356\n",
      "Epoch 53/100\n",
      "8000/8000 [==============================] - 1s 74us/step - loss: 0.3933 - accuracy: 0.8380\n",
      "Epoch 54/100\n",
      "8000/8000 [==============================] - 1s 79us/step - loss: 0.3923 - accuracy: 0.8371\n",
      "Epoch 55/100\n",
      "8000/8000 [==============================] - 1s 73us/step - loss: 0.3911 - accuracy: 0.8365\n",
      "Epoch 56/100\n",
      "8000/8000 [==============================] - 1s 81us/step - loss: 0.3904 - accuracy: 0.8374\n",
      "Epoch 57/100\n",
      "8000/8000 [==============================] - 1s 73us/step - loss: 0.3894 - accuracy: 0.8375\n",
      "Epoch 58/100\n",
      "8000/8000 [==============================] - 1s 75us/step - loss: 0.3886 - accuracy: 0.8372\n",
      "Epoch 59/100\n",
      "8000/8000 [==============================] - 1s 75us/step - loss: 0.3874 - accuracy: 0.8385\n",
      "Epoch 60/100\n",
      "8000/8000 [==============================] - 1s 73us/step - loss: 0.3866 - accuracy: 0.8360\n",
      "Epoch 61/100\n",
      "8000/8000 [==============================] - 1s 78us/step - loss: 0.3850 - accuracy: 0.8389\n",
      "Epoch 62/100\n",
      "8000/8000 [==============================] - 1s 75us/step - loss: 0.3825 - accuracy: 0.8388\n",
      "Epoch 63/100\n",
      "8000/8000 [==============================] - 1s 75us/step - loss: 0.3826 - accuracy: 0.8357\n",
      "Epoch 64/100\n",
      "8000/8000 [==============================] - 1s 75us/step - loss: 0.3812 - accuracy: 0.8381\n",
      "Epoch 65/100\n",
      "8000/8000 [==============================] - 1s 75us/step - loss: 0.3798 - accuracy: 0.8379\n",
      "Epoch 66/100\n",
      "8000/8000 [==============================] - 1s 79us/step - loss: 0.3796 - accuracy: 0.8379\n",
      "Epoch 67/100\n",
      "8000/8000 [==============================] - 1s 73us/step - loss: 0.3778 - accuracy: 0.8370\n",
      "Epoch 68/100\n",
      "8000/8000 [==============================] - 1s 73us/step - loss: 0.3770 - accuracy: 0.8386\n",
      "Epoch 69/100\n",
      "8000/8000 [==============================] - 1s 73us/step - loss: 0.3756 - accuracy: 0.8381\n",
      "Epoch 70/100\n",
      "8000/8000 [==============================] - 1s 72us/step - loss: 0.3735 - accuracy: 0.8414\n",
      "Epoch 71/100\n",
      "8000/8000 [==============================] - 1s 78us/step - loss: 0.3710 - accuracy: 0.8424\n",
      "Epoch 72/100\n",
      "8000/8000 [==============================] - 1s 73us/step - loss: 0.3691 - accuracy: 0.8460\n",
      "Epoch 73/100\n",
      "8000/8000 [==============================] - 1s 75us/step - loss: 0.3666 - accuracy: 0.8474\n",
      "Epoch 74/100\n",
      "8000/8000 [==============================] - 1s 73us/step - loss: 0.3642 - accuracy: 0.8504\n",
      "Epoch 75/100\n",
      "8000/8000 [==============================] - 1s 70us/step - loss: 0.3611 - accuracy: 0.8506\n",
      "Epoch 76/100\n",
      "8000/8000 [==============================] - 1s 75us/step - loss: 0.3586 - accuracy: 0.8520\n",
      "Epoch 77/100\n",
      "8000/8000 [==============================] - 1s 74us/step - loss: 0.3559 - accuracy: 0.8546\n",
      "Epoch 78/100\n",
      "8000/8000 [==============================] - 1s 75us/step - loss: 0.3535 - accuracy: 0.8553\n",
      "Epoch 79/100\n"
     ]
    },
    {
     "name": "stdout",
     "output_type": "stream",
     "text": [
      "8000/8000 [==============================] - 1s 84us/step - loss: 0.3519 - accuracy: 0.8564\n",
      "Epoch 80/100\n",
      "8000/8000 [==============================] - 1s 81us/step - loss: 0.3494 - accuracy: 0.8594\n",
      "Epoch 81/100\n",
      "8000/8000 [==============================] - 1s 74us/step - loss: 0.3482 - accuracy: 0.8605\n",
      "Epoch 82/100\n",
      "8000/8000 [==============================] - 1s 77us/step - loss: 0.3471 - accuracy: 0.8612\n",
      "Epoch 83/100\n",
      "8000/8000 [==============================] - 1s 79us/step - loss: 0.3458 - accuracy: 0.8612\n",
      "Epoch 84/100\n",
      "8000/8000 [==============================] - 1s 82us/step - loss: 0.3459 - accuracy: 0.8616\n",
      "Epoch 85/100\n",
      "8000/8000 [==============================] - 1s 75us/step - loss: 0.3450 - accuracy: 0.8605\n",
      "Epoch 86/100\n",
      "8000/8000 [==============================] - 1s 76us/step - loss: 0.3435 - accuracy: 0.8629\n",
      "Epoch 87/100\n",
      "8000/8000 [==============================] - 1s 78us/step - loss: 0.3437 - accuracy: 0.8616\n",
      "Epoch 88/100\n",
      "8000/8000 [==============================] - 1s 80us/step - loss: 0.3432 - accuracy: 0.8615\n",
      "Epoch 89/100\n",
      "8000/8000 [==============================] - 1s 77us/step - loss: 0.3424 - accuracy: 0.8612\n",
      "Epoch 90/100\n",
      "8000/8000 [==============================] - 1s 79us/step - loss: 0.3416 - accuracy: 0.8624\n",
      "Epoch 91/100\n",
      "8000/8000 [==============================] - 1s 76us/step - loss: 0.3415 - accuracy: 0.8620\n",
      "Epoch 92/100\n",
      "8000/8000 [==============================] - 1s 84us/step - loss: 0.3411 - accuracy: 0.8633\n",
      "Epoch 93/100\n",
      "8000/8000 [==============================] - 1s 81us/step - loss: 0.3410 - accuracy: 0.8619\n",
      "Epoch 94/100\n",
      "8000/8000 [==============================] - 1s 78us/step - loss: 0.3407 - accuracy: 0.8626\n",
      "Epoch 95/100\n",
      "8000/8000 [==============================] - 1s 78us/step - loss: 0.3400 - accuracy: 0.8631\n",
      "Epoch 96/100\n",
      "8000/8000 [==============================] - 1s 76us/step - loss: 0.3395 - accuracy: 0.8631\n",
      "Epoch 97/100\n",
      "8000/8000 [==============================] - 1s 78us/step - loss: 0.3399 - accuracy: 0.8619\n",
      "Epoch 98/100\n",
      "8000/8000 [==============================] - 1s 78us/step - loss: 0.3395 - accuracy: 0.8619\n",
      "Epoch 99/100\n",
      "8000/8000 [==============================] - 1s 78us/step - loss: 0.3386 - accuracy: 0.8629\n",
      "Epoch 100/100\n",
      "8000/8000 [==============================] - 1s 79us/step - loss: 0.3387 - accuracy: 0.8634\n"
     ]
    },
    {
     "data": {
      "text/plain": [
       "<keras.callbacks.callbacks.History at 0x1f1a15b0b08>"
      ]
     },
     "execution_count": 12,
     "metadata": {},
     "output_type": "execute_result"
    }
   ],
   "source": [
    "# Initialising the ANN\n",
    "classifier = Sequential()\n",
    "\n",
    "# Adding the input layer and the first hidden layer\n",
    "classifier.add(Dense(activation=\"relu\", input_dim=11, units=6, kernel_initializer=\"uniform\"))\n",
    "\n",
    "# Adding the second hidden layer\n",
    "classifier.add(Dense(activation=\"relu\", units=6, kernel_initializer=\"uniform\"))\n",
    "\n",
    "# Adding the output layer\n",
    "classifier.add(Dense(activation=\"sigmoid\", units=1, kernel_initializer=\"uniform\"))\n",
    "\n",
    "# Compiling the ANN\n",
    "classifier.compile(optimizer = 'adam', loss = 'binary_crossentropy', metrics = ['accuracy'])\n",
    "\n",
    "# Fitting the ANN to the Training set\n",
    "classifier.fit(X_train, y_train, batch_size = 10, nb_epoch = 100)"
   ]
  },
  {
   "cell_type": "code",
   "execution_count": 13,
   "metadata": {},
   "outputs": [],
   "source": [
    "# Part 3 - Making the predictions and evaluating the model\n",
    "\n",
    "# Predicting the Test set results\n",
    "y_pred = classifier.predict(X_test)\n",
    "y_pred = (y_pred > 0.5)\n",
    "\n",
    "# Making the Confusion Matrix\n",
    "from sklearn.metrics import confusion_matrix,accuracy_score\n",
    "cm = confusion_matrix(y_test, y_pred)\n",
    "accuracy=accuracy_score(y_test,y_pred)"
   ]
  },
  {
   "cell_type": "code",
   "execution_count": 14,
   "metadata": {},
   "outputs": [
    {
     "data": {
      "text/plain": [
       "array([[1531,   64],\n",
       "       [ 205,  200]], dtype=int64)"
      ]
     },
     "execution_count": 14,
     "metadata": {},
     "output_type": "execute_result"
    }
   ],
   "source": [
    "cm"
   ]
  },
  {
   "cell_type": "code",
   "execution_count": 15,
   "metadata": {},
   "outputs": [
    {
     "data": {
      "text/plain": [
       "0.8655"
      ]
     },
     "execution_count": 15,
     "metadata": {},
     "output_type": "execute_result"
    }
   ],
   "source": [
    "accuracy"
   ]
  },
  {
   "cell_type": "code",
   "execution_count": null,
   "metadata": {},
   "outputs": [],
   "source": []
  }
 ],
 "metadata": {
  "kernelspec": {
   "display_name": "Python 3",
   "language": "python",
   "name": "python3"
  },
  "language_info": {
   "codemirror_mode": {
    "name": "ipython",
    "version": 3
   },
   "file_extension": ".py",
   "mimetype": "text/x-python",
   "name": "python",
   "nbconvert_exporter": "python",
   "pygments_lexer": "ipython3",
   "version": "3.7.7"
  },
  "varInspector": {
   "cols": {
    "lenName": 16,
    "lenType": 16,
    "lenVar": 40
   },
   "kernels_config": {
    "python": {
     "delete_cmd_postfix": "",
     "delete_cmd_prefix": "del ",
     "library": "var_list.py",
     "varRefreshCmd": "print(var_dic_list())"
    },
    "r": {
     "delete_cmd_postfix": ") ",
     "delete_cmd_prefix": "rm(",
     "library": "var_list.r",
     "varRefreshCmd": "cat(var_dic_list()) "
    }
   },
   "types_to_exclude": [
    "module",
    "function",
    "builtin_function_or_method",
    "instance",
    "_Feature"
   ],
   "window_display": false
  }
 },
 "nbformat": 4,
 "nbformat_minor": 4
}
